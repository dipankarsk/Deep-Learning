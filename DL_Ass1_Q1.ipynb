{
 "cells": [
  {
   "cell_type": "code",
   "execution_count": 1,
   "id": "electronic-teach",
   "metadata": {
    "executionInfo": {
     "elapsed": 23,
     "status": "ok",
     "timestamp": 1645953331427,
     "user": {
      "displayName": "Shivam Dalmia",
      "photoUrl": "https://lh3.googleusercontent.com/a-/AOh14GiZkYQ3L8b2oM1Xw5DdROCWeY_X6nJeeT18dyyy=s64",
      "userId": "06207124264598310515"
     },
     "user_tz": -330
    },
    "id": "electronic-teach"
   },
   "outputs": [],
   "source": [
    "import numpy as np \n",
    "import pandas as pd\n",
    "from matplotlib import pyplot as plt\n",
    "import pickle"
   ]
  },
  {
   "cell_type": "markdown",
   "id": "fresh-painting",
   "metadata": {
    "id": "fresh-painting"
   },
   "source": [
    "## Perceptron for AND & OR"
   ]
  },
  {
   "cell_type": "code",
   "execution_count": null,
   "id": "wanted-training",
   "metadata": {
    "executionInfo": {
     "elapsed": 22,
     "status": "ok",
     "timestamp": 1645953331431,
     "user": {
      "displayName": "Shivam Dalmia",
      "photoUrl": "https://lh3.googleusercontent.com/a-/AOh14GiZkYQ3L8b2oM1Xw5DdROCWeY_X6nJeeT18dyyy=s64",
      "userId": "06207124264598310515"
     },
     "user_tz": -330
    },
    "id": "wanted-training"
   },
   "outputs": [],
   "source": [
    "def perceptron(W1_ , W2_ , b_):\n",
    "    count=0\n",
    "    flag=0;\n",
    "    j=0;\n",
    "    l=0;\n",
    "\n",
    "    while(flag==0):\n",
    "        if(l==0):\n",
    "            plt.figure()\n",
    "            X = np.linspace(-0.5,2,5)\n",
    "            #C = np.linspace(-0.5,2,5)\n",
    "            C=1\n",
    "            Y = -(W2_*X+b_*C)/W1_\n",
    "            plt.plot(X,Y)\n",
    "            plt.scatter(df[df['y']==0]['x1'],df[df['y']==0]['x2'])\n",
    "            plt.scatter(df[df['y']==1]['x1'],df[df['y']==1]['x2'])\n",
    "            plt.show()\n",
    "        \n",
    "        i = j%4\n",
    "        ther=(W1_*df['x1'][i])+(W2_*df['x2'][i])+(b_*df['bi'][i])\n",
    "        if(ther>=0):\n",
    "            y_=1\n",
    "        else:\n",
    "            y_=-1\n",
    "\n",
    "        if(y_==1 and df['y'][i] ==0):\n",
    "            W1_ -= df['x1'][i];\n",
    "            W2_ -= df['x2'][i];\n",
    "            b_ -= df['bi'][i];\n",
    "            print(\"For epoch \"+str(count)+\" error : 1\")\n",
    "            print(\"Weights are \"+str(W1_)+\" \"+str(W2_)+\" \"+str(b_));\n",
    "            count +=1\n",
    "            l=0\n",
    "            continue\n",
    "\n",
    "        elif(y_==-1 and df['y'][i] ==1):\n",
    "            W1_ += df['x1'][i];\n",
    "            W2_ += df['x2'][i];\n",
    "            b_ += df['bi'][i];\n",
    "            print(\"For epoch \"+str(count)+\" error : 1\")\n",
    "            print(\"Weights are \"+str(W1_)+\" \"+str(W2_)+\" \"+str(b_));\n",
    "            count +=1\n",
    "            l=0\n",
    "            continue\n",
    "\n",
    "        flag1=0\n",
    "        for k in range(0,4):\n",
    "            ther1=(W1_*df['x1'][k])+(W2_*df['x2'][k])+(b_*df['bi'][k])\n",
    "            if(ther1>=0):\n",
    "                y1_=1\n",
    "            else:\n",
    "                y1_=-1\n",
    "            if(y1_==1 and df['y'][k] ==0 or y1_==-1 and df['y'][k] ==1):\n",
    "                flag1=1\n",
    "                break\n",
    "\n",
    "        if flag1==0:\n",
    "            flag=1\n",
    "            plt.figure()\n",
    "            X = np.linspace(-0.5,2,10)\n",
    "            #C = np.linspace(-0.5,2,10)\n",
    "            C=1\n",
    "            Y = -(W2_*X+b_*C)/W1_\n",
    "            plt.plot(X,Y)\n",
    "            plt.scatter(df[df['y']==0]['x1'],df[df['y']==0]['x2'])\n",
    "            plt.scatter(df[df['y']==1]['x1'],df[df['y']==1]['x2'])\n",
    "            plt.show()\n",
    "            print(\"For epoch \"+str(count)+\" error : 0\")\n",
    "            print(\"Weights are \"+str(W1_)+\" \"+str(W2_)+\" \"+str(b_));\n",
    "        \n",
    "        l=1\n",
    "        j +=1\n",
    "    return W1_ , W2_ , b_\n",
    "    \n"
   ]
  },
  {
   "cell_type": "markdown",
   "id": "herbal-honor",
   "metadata": {
    "id": "herbal-honor"
   },
   "source": [
    "## AND Table"
   ]
  },
  {
   "cell_type": "code",
   "execution_count": null,
   "id": "common-blame",
   "metadata": {
    "colab": {
     "base_uri": "https://localhost:8080/",
     "height": 1000
    },
    "executionInfo": {
     "elapsed": 2946,
     "status": "ok",
     "timestamp": 1645953334357,
     "user": {
      "displayName": "Shivam Dalmia",
      "photoUrl": "https://lh3.googleusercontent.com/a-/AOh14GiZkYQ3L8b2oM1Xw5DdROCWeY_X6nJeeT18dyyy=s64",
      "userId": "06207124264598310515"
     },
     "user_tz": -330
    },
    "id": "common-blame",
    "outputId": "8dc65844-851b-4d8f-fe0f-60b43b268272"
   },
   "outputs": [],
   "source": [
    "model=[]\n",
    "lst = {'x1' :[0,0,1,1] ,'x2':[0,1,0,1] , 'bi': [1,1,1,1] ,'y':[0,0,0,1]}\n",
    "df = pd.DataFrame(lst)\n",
    "df\n",
    "W1 = np.random.randn()\n",
    "W2 = np.random.randn()\n",
    "b = np.random.randn()\n",
    "model = perceptron(W1 , W2 , b)\n",
    "with open('AND.pkl','wb') as f:\n",
    "    pickle.dump(model, f)\n",
    "    \n",
    "\n"
   ]
  },
  {
   "cell_type": "markdown",
   "id": "unusual-thesis",
   "metadata": {
    "id": "unusual-thesis"
   },
   "source": [
    "## OR Table"
   ]
  },
  {
   "cell_type": "code",
   "execution_count": null,
   "id": "considerable-halifax",
   "metadata": {
    "colab": {
     "base_uri": "https://localhost:8080/",
     "height": 834
    },
    "executionInfo": {
     "elapsed": 17,
     "status": "ok",
     "timestamp": 1645953334359,
     "user": {
      "displayName": "Shivam Dalmia",
      "photoUrl": "https://lh3.googleusercontent.com/a-/AOh14GiZkYQ3L8b2oM1Xw5DdROCWeY_X6nJeeT18dyyy=s64",
      "userId": "06207124264598310515"
     },
     "user_tz": -330
    },
    "id": "considerable-halifax",
    "outputId": "2005dbb5-9f05-4bca-8560-4fbaf6ffd22f"
   },
   "outputs": [],
   "source": [
    "model=[]\n",
    "lst = {'x1' :[0,0,1,1] ,'x2':[0,1,0,1] , 'bi': [1,1,1,1] ,'y':[0,1,1,1]}\n",
    "df = pd.DataFrame(lst)\n",
    "df\n",
    "W1_ = np.random.random()\n",
    "W2_ = np.random.random()\n",
    "b_ = np.random.random()\n",
    "model =perceptron(W1_ , W2_ , b_)\n",
    "with open('OR.pkl','wb') as f:\n",
    "    pickle.dump(model, f)\n"
   ]
  },
  {
   "cell_type": "markdown",
   "id": "dental-dietary",
   "metadata": {
    "id": "dental-dietary"
   },
   "source": [
    "## XOR Table"
   ]
  },
  {
   "cell_type": "code",
   "execution_count": null,
   "id": "special-alloy",
   "metadata": {
    "colab": {
     "base_uri": "https://localhost:8080/",
     "height": 1000
    },
    "executionInfo": {
     "elapsed": 10953,
     "status": "error",
     "timestamp": 1645953346581,
     "user": {
      "displayName": "Shivam Dalmia",
      "photoUrl": "https://lh3.googleusercontent.com/a-/AOh14GiZkYQ3L8b2oM1Xw5DdROCWeY_X6nJeeT18dyyy=s64",
      "userId": "06207124264598310515"
     },
     "user_tz": -330
    },
    "id": "special-alloy",
    "outputId": "4b27f17e-2c84-4091-c200-be6c28329367"
   },
   "outputs": [],
   "source": [
    "lst = {'x1' :[0,0,1,1] ,'x2':[0,1,0,1] , 'bi': [1,1,1,1] ,'y':[0,1,1,0]}\n",
    "df = pd.DataFrame(lst)\n",
    "df\n",
    "W_1 = np.random.random()\n",
    "W_2 = np.random.random()\n",
    "b_3 = np.random.random()\n",
    "perceptron(W_1 , W_2 , b_3)"
   ]
  },
  {
   "cell_type": "markdown",
   "id": "expensive-location",
   "metadata": {
    "id": "expensive-location"
   },
   "source": [
    "## Perceptron for NOT"
   ]
  },
  {
   "cell_type": "code",
   "execution_count": null,
   "id": "indirect-george",
   "metadata": {
    "executionInfo": {
     "elapsed": 564,
     "status": "ok",
     "timestamp": 1645953353453,
     "user": {
      "displayName": "Shivam Dalmia",
      "photoUrl": "https://lh3.googleusercontent.com/a-/AOh14GiZkYQ3L8b2oM1Xw5DdROCWeY_X6nJeeT18dyyy=s64",
      "userId": "06207124264598310515"
     },
     "user_tz": -330
    },
    "id": "indirect-george"
   },
   "outputs": [],
   "source": [
    "def perceptron_not(W1, b):\n",
    "    flag=0;\n",
    "    count=0\n",
    "    j=0\n",
    "    while(flag==0):\n",
    "        i = j%2\n",
    "        ther=(W1*df['x1'][i])+(b*df['bi'][i])\n",
    "        if(ther>=0):\n",
    "            y_=1\n",
    "        else:\n",
    "            y_=-1\n",
    "        if(y_==1 and df['y'][i] ==0):\n",
    "            W1 -= df['x1'][i]\n",
    "            b -= df['bi'][i]\n",
    "            print(\"For epoch \"+str(count)+\" error : 1\")\n",
    "            print(\"Weights are \"+str(W1)+\" \"+str(b))\n",
    "            count +=1\n",
    "            continue\n",
    "        elif( y_==-1 and df['y'][i] ==1):\n",
    "            W1 += df['x1'][i]\n",
    "            b += df['bi'][i]\n",
    "            print(\"For epoch \"+str(count)+\" error : 1\")\n",
    "            print(\"Weights are \"+str(W1)+\" \"+str(b))\n",
    "            count +=1\n",
    "            continue\n",
    "\n",
    "        flag1=0\n",
    "        for k in range(0,2):\n",
    "            ther1=(W1*df['x1'][k])+(b*df['bi'][k])\n",
    "            if(ther1>=0):\n",
    "                y1_=1\n",
    "            else:\n",
    "                y1_=-1\n",
    "            if(y1_==1 and df['y'][k] ==0 or y1_==-1 and df['y'][k] ==1):\n",
    "                flag1=1\n",
    "                break\n",
    "        if flag1==0:\n",
    "            print(\"For epoch \"+str(count)+\" error : 0\")\n",
    "            print(\"Weights are \"+str(W1)+\" \"+str(b))\n",
    "            flag=1    \n",
    "        count +=1\n",
    "        j +=1\n",
    "    return W1 ,b"
   ]
  },
  {
   "cell_type": "markdown",
   "id": "covered-builder",
   "metadata": {
    "id": "covered-builder"
   },
   "source": [
    "## NOT Table"
   ]
  },
  {
   "cell_type": "code",
   "execution_count": null,
   "id": "logical-arbitration",
   "metadata": {
    "colab": {
     "base_uri": "https://localhost:8080/"
    },
    "executionInfo": {
     "elapsed": 780,
     "status": "ok",
     "timestamp": 1645953356636,
     "user": {
      "displayName": "Shivam Dalmia",
      "photoUrl": "https://lh3.googleusercontent.com/a-/AOh14GiZkYQ3L8b2oM1Xw5DdROCWeY_X6nJeeT18dyyy=s64",
      "userId": "06207124264598310515"
     },
     "user_tz": -330
    },
    "id": "logical-arbitration",
    "outputId": "43198cb6-cdb4-4acb-942e-929000ab1570"
   },
   "outputs": [],
   "source": [
    "model=[]\n",
    "lst = {'x1' :[0,1],'bi': [1,1] ,'y':[1,0]}\n",
    "df=pd.DataFrame(lst)\n",
    "df\n",
    "WN_1 = np.random.random()\n",
    "bN_ = np.random.random()\n",
    "perceptron_not(WN_1, bN_)\n",
    "model = perceptron_not(WN_1 , bN_)\n",
    "with open('NOT.pkl','wb') as f:\n",
    "    pickle.dump(model, f)"
   ]
  },
  {
   "cell_type": "code",
   "execution_count": 2,
   "id": "dramatic-refund",
   "metadata": {
    "id": "dramatic-refund",
    "outputId": "7521f4ff-115d-4685-cad5-a51ba6b4afc5"
   },
   "outputs": [
    {
     "name": "stdout",
     "output_type": "stream",
     "text": [
      "W1: 2.6345728626192724 W2: 1.189817554677668 b: -3.0003489775725134\n",
      "W1: 1.535848094656079 W2: 1.665898565446959 b: -0.7838593773633658\n",
      "W1: -1.2063730732266231 b: 0.36549163213751756\n"
     ]
    }
   ],
   "source": [
    "with open('./models/AND.pkl','rb') as f:\n",
    "     model_predict = pickle.load(f)\n",
    "print(\"W1: \"+str(model_predict[0])+\" W2: \"+str(model_predict[1])+\" b: \"+str(model_predict[2]))\n",
    "\n",
    "with open('./models/OR.pkl','rb') as f:\n",
    "     model_predict = pickle.load(f)\n",
    "print(\"W1: \"+str(model_predict[0])+\" W2: \"+str(model_predict[1])+\" b: \"+str(model_predict[2]))\n",
    "\n",
    "with open('./models/NOT.pkl','rb') as f:\n",
    "     model_predict = pickle.load(f)\n",
    "print(\"W1: \"+str(model_predict[0])+\" b: \"+str(model_predict[1]))"
   ]
  },
  {
   "cell_type": "code",
   "execution_count": null,
   "id": "mobile-miracle",
   "metadata": {
    "id": "mobile-miracle"
   },
   "outputs": [],
   "source": []
  }
 ],
 "metadata": {
  "colab": {
   "collapsed_sections": [],
   "name": "DL_Ass1_Q1.ipynb",
   "provenance": []
  },
  "kernelspec": {
   "display_name": "Python 3",
   "language": "python",
   "name": "python3"
  },
  "language_info": {
   "codemirror_mode": {
    "name": "ipython",
    "version": 3
   },
   "file_extension": ".py",
   "mimetype": "text/x-python",
   "name": "python",
   "nbconvert_exporter": "python",
   "pygments_lexer": "ipython3",
   "version": "3.8.12"
  }
 },
 "nbformat": 4,
 "nbformat_minor": 5
}
