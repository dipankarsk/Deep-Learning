{
 "cells": [
  {
   "cell_type": "code",
   "execution_count": 1,
   "id": "polish-alloy",
   "metadata": {
    "executionInfo": {
     "elapsed": 1251,
     "status": "ok",
     "timestamp": 1645949139272,
     "user": {
      "displayName": "Dipankar Sarkar",
      "photoUrl": "https://lh3.googleusercontent.com/a-/AOh14Gh81RD_dQYcIGkxyrs68uAsh_YF8df-N10vCwWr=s64",
      "userId": "09846639636262574091"
     },
     "user_tz": -330
    },
    "id": "polish-alloy"
   },
   "outputs": [],
   "source": [
    "import pandas as pd\n",
    "import numpy as np\n",
    "import math\n",
    "np.random.seed(45)\n",
    "import pickle"
   ]
  },
  {
   "cell_type": "code",
   "execution_count": 2,
   "id": "fresh-ideal",
   "metadata": {
    "id": "fresh-ideal"
   },
   "outputs": [],
   "source": [
    "# activation functions\n",
    "def tanh(x):\n",
    "    return 2*sigmoid(2*x)-1\n",
    "\n",
    "def sigmoid(x):\n",
    "        if x.any()<0:\n",
    "            return np.exp(x)/(1+np.exp(x))\n",
    "        else:\n",
    "            return 1/(1+np.exp(-x))\n",
    "def relu(x):\n",
    "    return np.maximum(x,0)\n",
    "\n",
    "def softmax(output_array):\n",
    "    return np.exp(output_array)/np.sum(np.exp(output_array), axis = 1, keepdims = True)"
   ]
  },
  {
   "cell_type": "code",
   "execution_count": 3,
   "id": "geographic-wednesday",
   "metadata": {
    "id": "geographic-wednesday"
   },
   "outputs": [],
   "source": [
    "# activation function derivatives\n",
    "def sigmoid_der(x):\n",
    "    return sigmoid(x) *(1-sigmoid (x))\n",
    "\n",
    "def tanh_der(x):\n",
    "    return (1-tanh(x)**2)\n",
    "\n",
    "def relu_der(x):\n",
    "    x[x<0]=0\n",
    "    return x"
   ]
  },
  {
   "cell_type": "code",
   "execution_count": 4,
   "id": "superb-evaluation",
   "metadata": {
    "id": "superb-evaluation"
   },
   "outputs": [],
   "source": [
    "# activation function selection\n",
    "\n",
    "def activation(x,activation_function):\n",
    "    if activation_function==\"sigmoid\":\n",
    "        return sigmoid(x)\n",
    "    elif activation_function==\"relu\":\n",
    "        return relu(x)\n",
    "    elif activation_function==\"tanh\":\n",
    "        return tanh(x)\n",
    "    \n",
    "def activation_derivative(x,activation_function):\n",
    "    if activation_function==\"sigmoid\":\n",
    "        return sigmoid_der(x)\n",
    "    elif activation_function==\"relu\":\n",
    "        return relu_der(x)\n",
    "    elif activation_function==\"tanh\":\n",
    "        return tanh_der(x)"
   ]
  },
  {
   "cell_type": "code",
   "execution_count": 5,
   "id": "controlling-classics",
   "metadata": {
    "id": "controlling-classics"
   },
   "outputs": [],
   "source": [
    "# one hot encoder\n",
    "def categorical(x):\n",
    "    one_hot_label = np.zeros((x.size, max(x)+1))\n",
    "    one_hot_label[np.arange(x.size), x] = 1\n",
    "    return one_hot_label.astype('int')"
   ]
  },
  {
   "cell_type": "code",
   "execution_count": 6,
   "id": "optimum-grant",
   "metadata": {
    "id": "optimum-grant"
   },
   "outputs": [],
   "source": [
    "def NN(number_of_neuron , data , label , epochs , batch_size ,activation_func,learning_rate,optimizer_name,\n",
    "       momentum,decay_rate,beta1,beta2):\n",
    "    \n",
    "    # data is of 60K*784\n",
    "    \n",
    "    label_count=len(np.unique(label))# 10 unique labels\n",
    "    one_hot_label=categorical(label)# one hot encoding for each 60k data (60K*10)\n",
    "    \n",
    "    # Hidden and Output layer weights initilization\n",
    "    \n",
    "    W_H=np.random.randn(data.shape[1], number_of_neuron)#weight initialization of Hidden layer(784*128)\n",
    "    W_O=np.random.randn(number_of_neuron,label_count)#weight initilization of output layer(128*10)\n",
    "    B_H=np.random.randn(number_of_neuron)#weights for hidden layer bias(1*128)\n",
    "    B_O=np.random.randn(label_count)#weights for output bias (1*10)\n",
    "    \n",
    "    \n",
    "    # optimizers weights initilization\n",
    "    \n",
    "    M_W_H=np.zeros((data.shape[1], number_of_neuron)) \n",
    "    M_W_O=np.zeros((number_of_neuron,label_count))\n",
    "    M_B_H=np.zeros(number_of_neuron)  \n",
    "    M_B_O=np.zeros(label_count)\n",
    "    \n",
    "    M_W_H1=np.zeros((data.shape[1], number_of_neuron))\n",
    "    M_W_O1=np.zeros((number_of_neuron,label_count))\n",
    "    M_B_H1=np.zeros(number_of_neuron)\n",
    "    M_B_O1=np.zeros(label_count)\n",
    "    \n",
    "    M_W_H2=np.zeros((data.shape[1], number_of_neuron)) \n",
    "    M_W_O2=np.zeros((number_of_neuron,label_count))\n",
    "    M_B_H2=np.zeros(number_of_neuron)\n",
    "    M_B_O2=np.zeros(label_count) \n",
    "      \n",
    "    total_loss=[]\n",
    "    loss_for_plot=[]\n",
    "    for e in range(epochs):\n",
    "        start=0\n",
    "        end=batch_size\n",
    "        itr=e+1\n",
    "        for b in range(math.ceil(data.shape[0]/batch_size)):\n",
    "   \n",
    "            # Forward Pass\n",
    "            \n",
    "            hidden_layer = np.dot(data[start:end,:],W_H)+B_H # batch_size*no_of_neuron\n",
    "            hidden_layer_activation=activation(hidden_layer,activation_func)# batch_size*no_of_neuron\n",
    "            output_layer=np.dot(hidden_layer_activation,W_O)+B_O# batch_size*labels\n",
    "            ouput_layer_activation=softmax(output_layer)# batch_size*labels probability in terms of classes(10 classes)\n",
    "            \n",
    "            #loss calculated from forward pass\n",
    "            loss=np.mean(-1*one_hot_label[start:end,:]*np.log(ouput_layer_activation+1e-16))\n",
    "            \n",
    "            #storing the loss for the batch\n",
    "            total_loss.append(loss)\n",
    "            \n",
    "            #Backward Pass\n",
    "            \n",
    "            output_layer_error=(ouput_layer_activation-one_hot_label[start:end,:])/(end-start) #dE/dz(2) for output\n",
    "            W_O_G=np.dot(hidden_layer_activation.T,output_layer_error) #(dz(2)/dW_0)*(dE/dz(2))\n",
    "            B_O_G=np.sum(output_layer_error, axis = 0, keepdims = True)\n",
    "            \n",
    "            hidden_layer_error=np.dot(output_layer_error, W_O.T) # (dz(1)/dW_H)\n",
    "            derivative=activation_derivative(hidden_layer_error,activation_func)# f`(z)\n",
    "           \n",
    "            W_H_G = np.dot(data[start:end,:].T, derivative*hidden_layer_error)# (dz(1)/dW_H)*f`(z)*dE/dy(1)\n",
    "            B_H_G = np.sum(hidden_layer_error*derivative, axis = 0, keepdims = True)\n",
    "            \n",
    "            #Weight updates\n",
    "           \n",
    "            if optimizer_name==\"none\":\n",
    "                \n",
    "                W_O=W_O-learning_rate*W_O_G\n",
    "                B_O=B_O-learning_rate*B_O_G\n",
    "                W_H=W_H-learning_rate*W_H_G\n",
    "                B_H=B_H-learning_rate*B_H_G\n",
    "                \n",
    "            elif optimizer_name==\"momentum\":\n",
    "                \n",
    "                M_W_O=momentum*M_W_O+(1-momentum)*W_O_G\n",
    "                W_O=W_O-learning_rate*M_W_O\n",
    "                \n",
    "                M_B_O=momentum*M_B_O+(1-momentum)*B_O_G\n",
    "                B_O=B_O-learning_rate*M_B_O\n",
    "                \n",
    "                M_W_H=momentum*M_W_H+(1-momentum)*W_H_G\n",
    "                W_H=W_H-learning_rate*M_W_H\n",
    "                \n",
    "                M_B_H=momentum*M_B_H+(1-momentum)*B_H_G\n",
    "                B_H=B_H-learning_rate*M_B_H\n",
    "            \n",
    "            elif optimizer_name==\"nag\":\n",
    "                \n",
    "                W_O=W_O+(momentum*momentum)*M_W_O-(1+momentum)*learning_rate*W_O_G\n",
    "                M_W_O=momentum*M_W_O-learning_rate*W_O_G\n",
    "            \n",
    "                B_O=B_O+(momentum*momentum)*M_B_O-(1+momentum)*learning_rate*B_O_G\n",
    "                M_B_O=momentum*M_B_O-learning_rate*B_O_G\n",
    "                \n",
    "                W_H=W_H+(momentum*momentum)*M_W_H-(1+momentum)*learning_rate*W_H_G\n",
    "                M_W_H=momentum*M_W_H-learning_rate*W_H_G\n",
    "            \n",
    "                B_H=B_H+(momentum*momentum)*M_B_H-(1+momentum)*learning_rate*B_H_G\n",
    "                M_B_H=momentum*M_B_H-learning_rate*B_H_G\n",
    "                \n",
    "            elif optimizer_name==\"adagrad\":\n",
    "                \n",
    "                M_W_O=M_W_O+(W_O_G)**2\n",
    "                W_O=W_O-(learning_rate*W_O_G)/(np.sqrt(M_W_O)+1e-7)\n",
    "            \n",
    "                M_B_O=M_B_O+(B_O_G)**2\n",
    "                B_O=B_O-(learning_rate*B_O_G)/(np.sqrt(M_B_O)+1e-7)\n",
    "            \n",
    "                M_W_H=M_W_H+(W_H_G)**2\n",
    "                W_H=W_H-(learning_rate*W_H_G)/(np.sqrt(M_W_H)+1e-7)\n",
    "            \n",
    "                M_B_H=M_B_H+(B_H_G)**2\n",
    "                B_H=B_H-(learning_rate*B_H_G)/(np.sqrt(M_B_H)+1e-7)\n",
    "                \n",
    "            elif optimizer_name==\"rmsprop\":\n",
    "                \n",
    "                M_W_O =(decay_rate * M_W_O) + ((1-decay_rate) * (W_O_G **2))\n",
    "                W_O =W_O-((learning_rate * W_O_G)/(np.sqrt(M_W_O)+ 1e-7))\n",
    "            \n",
    "                M_B_O =(decay_rate * M_B_O) + ((1-decay_rate) * (B_O_G **2))\n",
    "                B_O =B_O-((learning_rate * B_O_G)/(np.sqrt(M_B_O)+ 1e-7))\n",
    "    \n",
    "                M_W_H =(decay_rate * M_W_H) + ((1-decay_rate) * (W_H_G **2))\n",
    "                W_H =W_H-((learning_rate * W_H_G)/(np.sqrt(M_W_H)+ 1e-7))\n",
    "            \n",
    "                M_B_H =(decay_rate * M_B_H) + ((1-decay_rate) * (B_H_G **2))\n",
    "                B_H =B_H-((learning_rate * B_H_G)/(np.sqrt(M_B_H)+ 1e-7))\n",
    "                \n",
    "            elif optimizer_name==\"adam\":\n",
    "                \n",
    "                M_W_O1 = (beta1 * M_W_O1 +(1-beta1) * (W_O_G))\n",
    "                M_W_O2 = (beta2 * M_W_O2 +(1-beta2) * (W_O_G**2))\n",
    "                M_W_O1=M_W_O1/(1-beta1**itr)\n",
    "                M_W_O2=M_W_O2/(1-beta2**itr)\n",
    "                W_O=W_O-(learning_rate * M_W_O1)/(np.sqrt(M_W_O2) + 1e-8)\n",
    "                \n",
    "                M_B_O1 = (beta1 * M_B_O1 + (1-beta1) * (B_O_G))\n",
    "                M_B_O2 = (beta2 * M_B_O2 + (1-beta2) * (B_O_G**2))\n",
    "                M_B_O1=M_B_O1/(1-beta1**itr)\n",
    "                M_B_O2=M_B_O2/(1-beta2**itr)\n",
    "                B_O=B_O-(learning_rate * M_B_O2)/(np.sqrt(M_B_O2) + 1e-8)\n",
    "                \n",
    "                \n",
    "                \n",
    "                M_W_H1 = (beta1 * M_W_H1 + (1-beta1) * (W_H_G))\n",
    "                M_W_H2 = (beta2 * M_W_H2 + (1-beta2) * (W_H_G**2))\n",
    "                M_W_H1=M_W_H1/(1-beta1**itr)\n",
    "                M_W_H2=M_W_H2/(1-beta2**itr)\n",
    "                W_H=W_H-(learning_rate * M_W_H1)/(np.sqrt(M_W_H2) + 1e-8)\n",
    "            \n",
    "                M_B_H1 = (beta1 * M_B_H1 + (1-beta1) * (B_H_G))\n",
    "                M_B_H2 = (beta2 * M_B_H2 + (1-beta2) * (B_H_G**2))\n",
    "                M_B_H1=M_B_H1/(1-beta1**itr)\n",
    "                M_B_H2=M_B_H2/(1-beta2**itr)\n",
    "                B_H=B_H-(learning_rate * M_B_H1)/(np.sqrt(M_B_H2) + 1e-8)\n",
    "            \n",
    "                \n",
    "            \n",
    "                \n",
    "            start=end\n",
    "            end=end+batch_size\n",
    "            if end>data.shape[0]:\n",
    "                end=data.shape[0]\n",
    "\n",
    "        print(\"Epoch :\",e,\" Loss :\",np.mean(total_loss))# loss after an epoch \n",
    "        loss_for_plot.append(np.mean(total_loss))\n",
    "    return W_O,W_H,B_O,B_H,\"softmax\",activation_func,loss_for_plot"
   ]
  },
  {
   "cell_type": "code",
   "execution_count": 7,
   "id": "partial-front",
   "metadata": {
    "id": "partial-front"
   },
   "outputs": [],
   "source": [
    "def predict(model,data,label):\n",
    "    hidden_layer = np.dot(data,model[1])+model[3] # batch_size*no_of_neuron\n",
    "    hidden_layer_activation=activation(hidden_layer,model[5])# batch_size*no_of_neuron\n",
    "    output_layer=np.dot(hidden_layer_activation,model[0])+model[2]# batch_size*labels\n",
    "    ouput_layer_activation=softmax(output_layer)\n",
    "    predicted_label=np.argmax(ouput_layer_activation,axis=1)\n",
    "    print(label.shape)\n",
    "    count=0\n",
    "    for i in range(data.shape[0]):\n",
    "        if label[i]==predicted_label[i]:\n",
    "            count+=1\n",
    "    print(\"Accuracy of the Network is \",((count/10000)*100))"
   ]
  },
  {
   "cell_type": "code",
   "execution_count": 8,
   "id": "comfortable-professional",
   "metadata": {
    "id": "comfortable-professional"
   },
   "outputs": [],
   "source": [
    "#Loading the dataset\n",
    "\n",
    "train_data=pd.read_csv('./dataset_fashion/fashion-mnist_train.csv')\n",
    "test_data=pd.read_csv('./dataset_fashion/fashion-mnist_test.csv')\n",
    "train_label=train_data['label']\n",
    "test_label=test_data['label']\n",
    "train_data.drop('label',axis='columns',inplace=True)\n",
    "test_data.drop('label',axis='columns',inplace=True)\n",
    "\n",
    "X_train=train_data.to_numpy().astype('float64')/255\n",
    "Y_train=train_label.to_numpy()\n",
    "X_test=test_data.to_numpy().astype('float64')/255\n",
    "Y_test=test_label.to_numpy()"
   ]
  },
  {
   "cell_type": "code",
   "execution_count": null,
   "id": "premier-ghana",
   "metadata": {
    "id": "premier-ghana",
    "scrolled": true
   },
   "outputs": [],
   "source": [
    "epochs=100\n",
    "hidden_layer_neurons=128\n",
    "batchsize=64\n",
    "activation_function=\"tanh\"\n",
    "lr_rate=0.01\n",
    "momentum_val=0.9\n",
    "decay_rate=0.99\n",
    "beta1=0.1\n",
    "beta2=0.2\n",
    "optimizer_name=\"adam\"\n",
    "model=NN(hidden_layer_neurons,X_train,Y_train,epochs,batchsize,activation_function,lr_rate,optimizer_name,momentum_val,decay_rate,beta1,beta2)"
   ]
  },
  {
   "cell_type": "code",
   "execution_count": null,
   "id": "vanilla-sierra",
   "metadata": {
    "id": "vanilla-sierra"
   },
   "outputs": [],
   "source": [
    "predict(model,X_test,Y_test)"
   ]
  },
  {
   "cell_type": "code",
   "execution_count": null,
   "id": "parliamentary-kuwait",
   "metadata": {
    "id": "parliamentary-kuwait"
   },
   "outputs": [],
   "source": [
    "with open('gradient_nag.pkl','wb') as f:\n",
    "    pickle.dump(model, f)"
   ]
  },
  {
   "cell_type": "code",
   "execution_count": 21,
   "id": "passive-carol",
   "metadata": {
    "id": "passive-carol"
   },
   "outputs": [],
   "source": [
    "with open('./models/gradient_tanh.pkl','rb') as f:\n",
    "     model_predict = pickle.load(f)"
   ]
  },
  {
   "cell_type": "code",
   "execution_count": 22,
   "id": "german-revolution",
   "metadata": {
    "id": "german-revolution",
    "outputId": "fea5aa9c-021b-4d8b-e4e4-c34bdafdf434"
   },
   "outputs": [
    {
     "name": "stdout",
     "output_type": "stream",
     "text": [
      "(10000,)\n",
      "Accuracy of the Network is  42.91\n"
     ]
    }
   ],
   "source": [
    "predict(model_predict,X_test,Y_test)"
   ]
  },
  {
   "cell_type": "code",
   "execution_count": 23,
   "id": "pressing-upper",
   "metadata": {
    "id": "pressing-upper",
    "outputId": "77a25eb3-9823-47a0-d733-e68ff689ae65"
   },
   "outputs": [
    {
     "name": "stdout",
     "output_type": "stream",
     "text": [
      "[1.640114783423766, 1.5907807874611173, 1.5460557591799462, 1.505742042153445, 1.469546370933069, 1.4371170118226537, 1.4080264745021498, 1.3817881488714725, 1.3579293527011247, 1.336040192012784, 1.315781706829904, 1.2968824679482231, 1.27912779504828, 1.2623474100656396, 1.2464056670158958, 1.2311938424804347, 1.2166239782647665, 1.202624484113921, 1.1891371968379882, 1.1761149278861223, 1.1635192446025107, 1.1513186101892978, 1.139486925476884, 1.1280023386444409, 1.1168461636175508, 1.1060021919586873, 1.0954562793900313, 1.0851958609171732, 1.075209577626222, 1.0654869942622172, 1.0560183762023327, 1.0467945609760263, 1.0378068659002342, 1.0290470012982775, 1.0205070027551006, 1.0121791918213314, 1.0040561603574178, 0.9961307620523112, 0.9883961095005364, 0.980845576174682, 0.9734727913378555, 0.9662716257909276, 0.9592361843117385, 0.9523608021793053, 0.9456400395024815, 0.939068672998089, 0.9326416880045968, 0.9263542729448613, 0.920201814290789, 0.9141798894049628, 0.9082842570413553, 0.9025108477376946, 0.896855755743334, 0.8913152319247947, 0.8858856769815772, 0.8805636349977153, 0.8753457874189343, 0.8702289473715673, 0.8652100541445793, 0.8602861677153759, 0.8554544633805801, 0.85071222664391, 0.8460568484223346, 0.8414858204872256, 0.8369967309965504, 0.8325872600413343, 0.8282551752507032, 0.8239983275610568, 0.8198146472321385, 0.815702140140037, 0.81165888433868, 0.8076830268629858, 0.8037727807402666, 0.7999264221778035, 0.7961422879020013, 0.7924187726332729, 0.7887543266849382, 0.7851474536731069, 0.7815967083233127, 0.778100694364064, 0.7746580625049134, 0.7712675084991987, 0.7679277712882602, 0.7646376312234195, 0.7613959083689477, 0.7582014608958818, 0.7550531835738472, 0.7519500063579833, 0.7488908930590256, 0.7458748400808566, 0.7429008752104803, 0.7399680564482017, 0.7370754708693276, 0.7342222335122841, 0.7314074862914457, 0.7286303969361027, 0.725890157959582, 0.723185985664168, 0.720517119187867, 0.7178828195982578]\n"
     ]
    },
    {
     "data": {
      "image/png": "[encoded data removed]",
      "text/plain": [
       "<Figure size 432x288 with 1 Axes>"
      ]
     },
     "metadata": {
      "needs_background": "light"
     },
     "output_type": "display_data"
    }
   ],
   "source": [
    "import matplotlib.pyplot as plt\n",
    "print(model_predict[6])\n",
    "plt.plot(model_predict[6])\n",
    "plt.title(\" Loss vs Epochs \")\n",
    "plt.ylabel(\" Loss ---->\")\n",
    "plt.xlabel(\" Epochs ---->\")\n",
    "plt.show()"
   ]
  },
  {
   "cell_type": "code",
   "execution_count": null,
   "id": "utility-bulletin",
   "metadata": {
    "id": "utility-bulletin"
   },
   "outputs": [],
   "source": []
  },
  {
   "cell_type": "code",
   "execution_count": null,
   "id": "internal-organic",
   "metadata": {},
   "outputs": [],
   "source": []
  }
 ],
 "metadata": {
  "colab": {
   "name": "toolkit.ipynb",
   "provenance": [],
   "toc_visible": true
  },
  "kernelspec": {
   "display_name": "Python 3",
   "language": "python",
   "name": "python3"
  },
  "language_info": {
   "codemirror_mode": {
    "name": "ipython",
    "version": 3
   },
   "file_extension": ".py",
   "mimetype": "text/x-python",
   "name": "python",
   "nbconvert_exporter": "python",
   "pygments_lexer": "ipython3",
   "version": "3.8.12"
  }
 },
 "nbformat": 4,
 "nbformat_minor": 5
}
