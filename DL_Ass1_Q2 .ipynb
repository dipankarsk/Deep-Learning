{
 "cells": [
  {
   "cell_type": "code",
   "execution_count": 1,
   "id": "metropolitan-empire",
   "metadata": {},
   "outputs": [],
   "source": [
    "import numpy as np \n",
    "import pandas as pd\n",
    "import pickle"
   ]
  },
  {
   "cell_type": "code",
   "execution_count": 2,
   "id": "apart-providence",
   "metadata": {},
   "outputs": [],
   "source": [
    "lst = {'x1' :[0,1,2,8,9,4,7,8,8,12,11,10,4,5,6,4,5,6,4,5,6,0,1,2,4,5,6] ,'x2':[4,5,6,4,5,7,2,3,8,5,5,6,8,9,10,4,5,6,0,1,2,8,7,3,3,3,7] , 'bi': [1,1,1,1,1,1,1,1,1,1,1,1,1,1,1,1,1,1,1,1,1,1,1,1,1,1,1] ,'y':[1,1,1,1,1,0,0,0,0,0,0,1,1,1,1,1,1,1,1,1,1,0,0,0,0,0,0]}\n",
    "df = pd.DataFrame(lst)\n",
    "df = df.to_numpy()"
   ]
  },
  {
   "cell_type": "code",
   "execution_count": 3,
   "id": "processed-saturday",
   "metadata": {},
   "outputs": [],
   "source": [
    "def check(n,k, mid_w,mid_1_w,out_w):\n",
    "    y1=np.dot(mid_w , df[k,0:3].reshape(3,1))      \n",
    "    mid_y = np.zeros((n-u,1))\n",
    "    for j in range (0,12):\n",
    "        if(y1[j]>=0):\n",
    "            mid_y[j]=1\n",
    "            y1[j]=1\n",
    "        else:\n",
    "            mid_y[j]=-1\n",
    "            y1[j]=-1\n",
    "    mid_y[12]=1\n",
    "    y2 = np.dot(mid_1_w , mid_y)\n",
    "    outs=0\n",
    "    for j in range (0,5):\n",
    "        outs += y2[j]*out_w[j]\n",
    "    outs += out_w[5]*1\n",
    "    if(outs>=0):\n",
    "        return 1\n",
    "    else:\n",
    "        return -1"
   ]
  },
  {
   "cell_type": "code",
   "execution_count": 4,
   "id": "better-december",
   "metadata": {},
   "outputs": [],
   "source": [
    "def out(c,n,u,i,diff,mid_w,mid_1_w,out_w,output):\n",
    "    output1=np.dot(mid_w , df[i,0:3].reshape(3,1))         #12*3*3*1==12*1 +1\n",
    "    mid_out = np.zeros((n-u,1))\n",
    "    for j in range (0,n-u-1):\n",
    "        output[j]=output1[j]\n",
    "        if(output[j]>=0):\n",
    "            diff[j] = output[j]\n",
    "            mid_out[j]=1\n",
    "            output[j]=1\n",
    "        else:\n",
    "            diff[j] = -output[j]\n",
    "            mid_out[j]=-1\n",
    "            output[j]=-1\n",
    "    mid_out[n-u-1]=1\n",
    "    output2=np.dot(mid_1_w , mid_out)              #5*13*13*1 == 5*1\n",
    "    for j in range (0,u):\n",
    "        output[12+j]=output2[j]\n",
    "        if(output[j]>=0):\n",
    "            diff[12+j] = output[12+j]\n",
    "            output[12+j]=1\n",
    "        else:\n",
    "            diff[12+j] = -output[12+j]\n",
    "            output[12+j]=-1;\n",
    "    outs=0\n",
    "    for j in range (0,u):\n",
    "        outs += output[12+j]*out_w[j]\n",
    "    outs += out_w[5]*1\n",
    "    if(outs>=0):\n",
    "        output[17]=1\n",
    "        return 1,diff,mid_w,mid_1_w,out_w,output\n",
    "    else:\n",
    "        output[17]=-1\n",
    "        return -1,diff,mid_w,mid_1_w,out_w,output"
   ]
  },
  {
   "cell_type": "code",
   "execution_count": 5,
   "id": "perceived-dance",
   "metadata": {},
   "outputs": [],
   "source": [
    "def update(c,n,u,i,diff,mid_w,mid_1_w,out_w,output):\n",
    "    q = np.where(diff==min(diff))\n",
    "    j = q[0][0]\n",
    "    inter = (df[i,3]) - (-diff[j])\n",
    "    if(j<12):\n",
    "        mid_w[j][0] -= 0.1*inter*df[i,0]\n",
    "        mid_w[j][1] -= 0.1*inter*df[i,1]\n",
    "        mid_w[j][2] -= 0.1*inter\n",
    "    else:\n",
    "        for l in range(0,n-u-1):\n",
    "            mid_1_w[j-12][l] -= 0.1*inter*output[l]\n",
    "        mid_1_w[j-12][12] -= 0.1*inter\n",
    "    return diff,mid_w,mid_1_w,out_w,output,c"
   ]
  },
  {
   "cell_type": "code",
   "execution_count": 6,
   "id": "broad-point",
   "metadata": {},
   "outputs": [
    {
     "name": "stdout",
     "output_type": "stream",
     "text": [
      "Accuracy : 51.85185185185185\n"
     ]
    }
   ],
   "source": [
    "n=18\n",
    "u=5\n",
    "flag=0\n",
    "j=0\n",
    "c=0\n",
    "x,y = df.shape\n",
    "diff = np.zeros(17)\n",
    "mid_w =np.random.uniform(-1, 1 , (n-u-1,3))\n",
    "mid_1_w =np.random.uniform(-1, 1 , (u,n-u))\n",
    "out_w = np.random.uniform(-1, 1 ,n+1)\n",
    "output = np.zeros(n)\n",
    "while(flag==0):\n",
    "    if(c>= 100):\n",
    "        break;\n",
    "    i = j%x\n",
    "    res,diff,mid_w,mid_1_w,out_w,output = out(c,n,u,i,diff ,mid_w,mid_1_w,out_w,output)\n",
    "    if(res == 1 and df[i,3] ==0):\n",
    "        diff,mid_w,mid_1_w,out_w,output,c = update(c,n,u,i,diff,mid_w,mid_1_w,out_w,output)\n",
    "    elif(res == -1 and df[i,3] ==1):\n",
    "        diff,mid_w,mid_1_w,out_w,output,c = update(c,n,u,i,diff,mid_w,mid_1_w,out_w,output)\n",
    "    f=0\n",
    "    for m in range(0,x):\n",
    "        res1 = check(n,m,mid_w,mid_1_w,out_w)\n",
    "        if(res1 == 1 and df[m,3] ==0):\n",
    "            f=1\n",
    "            break\n",
    "        elif(res1 == -1 and df[m,3] ==1):\n",
    "            f=1\n",
    "            break\n",
    "            \n",
    "    if(f==0):\n",
    "        flag=1;\n",
    "    c+=1\n",
    "    j +=1\n",
    "count=0  \n",
    "\n",
    "\n",
    "\n",
    "for m in range(0,x):\n",
    "        res1 = check(n,m, mid_w,mid_1_w,out_w)\n",
    "        if(res1 == 1 and df[m,3] ==1):\n",
    "            count +=1\n",
    "        elif(res1 == -1 and df[m,3] ==0):\n",
    "            count +=1\n",
    "print(\"Accuracy : \"+ str(count/x*100))"
   ]
  },
  {
   "cell_type": "code",
   "execution_count": null,
   "id": "virgin-mentor",
   "metadata": {},
   "outputs": [],
   "source": [
    "model = [n ,mid_w,mid_1_w,out_w]\n",
    "with open('Madeline.pkl','wb') as f:\n",
    "    pickle.dump(model, f)"
   ]
  },
  {
   "cell_type": "code",
   "execution_count": 8,
   "id": "administrative-paragraph",
   "metadata": {},
   "outputs": [
    {
     "name": "stdout",
     "output_type": "stream",
     "text": [
      "No of neurons: 18\n",
      " Middle Weights: [[-0.27735364 -0.49877266  0.37275835]\n",
      " [-0.43540907 -0.91221376 -0.34231269]\n",
      " [ 0.6202432  -0.57327029 -0.47868859]\n",
      " [-0.413111   -0.13642695 -0.34809761]\n",
      " [-0.00790067 -0.06317465  0.34597849]\n",
      " [ 0.39475129 -0.8895448  -0.00414496]\n",
      " [-0.08141801  0.15621378  0.68077462]\n",
      " [ 0.61998351  0.88569611  0.26204405]\n",
      " [ 0.28948045  0.72077551  0.85305208]\n",
      " [-0.6763465  -0.34428089  0.30928535]\n",
      " [ 0.34065226 -0.96279419  0.39997841]\n",
      " [ 0.39246068 -0.08614324  0.95851744]]\n",
      " Output Weights: [[-1.18575256e+17 -1.18575256e+17 -3.57834195e+16 -1.18575256e+17\n",
      "  -2.03723427e+16 -3.70913220e+16  1.18575256e+17  1.18575256e+17\n",
      "   1.18575256e+17 -1.18575256e+17 -3.70913220e+16  1.18575256e+17\n",
      "   1.18575256e+17]\n",
      " [-8.82568118e-01 -1.85256041e-01 -8.01270489e-01 -5.46965774e-01\n",
      "   1.79873224e-01  9.10681105e-01 -1.17904211e-01  5.68489922e-02\n",
      "  -5.96811673e-01 -6.03445771e-01 -7.53641665e-01  1.40988430e-02\n",
      "  -6.69073869e-01]\n",
      " [-8.00543500e-01 -8.51457193e-01 -8.02876427e-01  4.95547606e-01\n",
      "   6.44846320e-01  5.59936612e-01 -5.12102993e-01  1.23492408e-02\n",
      "  -5.97993268e-01 -1.38517405e-01 -6.46631947e-02 -2.84558557e-02\n",
      "   9.86408343e-01]\n",
      " [ 7.32091232e-01 -5.38155710e-01 -7.18941720e-01 -2.60491434e-01\n",
      "  -4.22700594e-01 -7.78833949e-01 -7.82332331e-01 -8.91248765e-01\n",
      "   1.38347827e-02 -6.02096493e-01 -3.96279538e-01  5.29526157e-01\n",
      "  -7.94883507e-02]\n",
      " [ 5.01514272e-01 -7.14009135e-01 -6.68496579e-01 -8.66785445e-01\n",
      "  -1.14100784e-01 -1.87547280e-01  2.35356202e-01 -8.46131681e-01\n",
      "  -2.72320503e-02  3.44524376e-01  5.47477443e-01  2.32787224e-01\n",
      "  -7.62406566e-01]]\n"
     ]
    }
   ],
   "source": [
    "with open('./models/Madeline.pkl','rb') as f:\n",
    "     model_predict = pickle.load(f)\n",
    "print(\"No of neurons: \"+str(model_predict[0])+\"\\n Middle Weights: \"+str(model_predict[1])+\"\\n Output Weights: \"+str(model_predict[2]))"
   ]
  },
  {
   "cell_type": "code",
   "execution_count": 9,
   "id": "infectious-printer",
   "metadata": {},
   "outputs": [
    {
     "name": "stdout",
     "output_type": "stream",
     "text": [
      "Accuracy : 55.55555555555556\n"
     ]
    }
   ],
   "source": [
    "count=0\n",
    "for m in range(0,x):\n",
    "        res1 = check(model_predict[0],m, model_predict[1],model_predict[2],model_predict[3])\n",
    "        if(res1 == 1 and df[m,3] ==1):\n",
    "            count +=1\n",
    "        elif(res1 == -1 and df[m,3] ==0):\n",
    "            count +=1\n",
    "print(\"Accuracy : \"+ str(count/x*100))"
   ]
  },
  {
   "cell_type": "code",
   "execution_count": null,
   "id": "rocky-momentum",
   "metadata": {},
   "outputs": [],
   "source": []
  }
 ],
 "metadata": {
  "kernelspec": {
   "display_name": "Python 3",
   "language": "python",
   "name": "python3"
  },
  "language_info": {
   "codemirror_mode": {
    "name": "ipython",
    "version": 3
   },
   "file_extension": ".py",
   "mimetype": "text/x-python",
   "name": "python",
   "nbconvert_exporter": "python",
   "pygments_lexer": "ipython3",
   "version": "3.8.12"
  }
 },
 "nbformat": 4,
 "nbformat_minor": 5
}
